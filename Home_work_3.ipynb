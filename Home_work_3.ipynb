{
 "cells": [
  {
   "cell_type": "markdown",
   "metadata": {},
   "source": [
    "# Числа фибоначи через генератор"
   ]
  },
  {
   "cell_type": "code",
   "execution_count": 10,
   "metadata": {},
   "outputs": [
    {
     "name": "stdout",
     "output_type": "stream",
     "text": [
      "[0, 1, 1, 2, 3, 5, 8, 13, 21, 34]\n"
     ]
    }
   ],
   "source": [
    "def fibonachi():\n",
    "    a = 0\n",
    "    b = 1\n",
    "    while True:\n",
    "        yield a\n",
    "        a,b = b,a+b\n",
    "\n",
    "itr = fibonachi()\n",
    "print([next(itr) for i in range(10)])"
   ]
  },
  {
   "cell_type": "markdown",
   "metadata": {},
   "source": [
    "# Палиндром"
   ]
  },
  {
   "cell_type": "code",
   "execution_count": 17,
   "metadata": {},
   "outputs": [
    {
     "name": "stdout",
     "output_type": "stream",
     "text": [
      "True\n",
      "True\n",
      "False\n"
     ]
    }
   ],
   "source": [
    "def palindrom(s):\n",
    "    if len(s) < 1:\n",
    "        return True\n",
    "    if s[0] == s[-1]:\n",
    "        return palindrom(s[1:-1])\n",
    "    else:\n",
    "        return False\n",
    "    \n",
    "print(palindrom(\"доход\"))\n",
    "print(palindrom(\"заказ\"))\n",
    "print(palindrom(\"проход\"))"
   ]
  },
  {
   "cell_type": "markdown",
   "metadata": {},
   "source": [
    "# Декоратор"
   ]
  },
  {
   "cell_type": "code",
   "execution_count": 60,
   "metadata": {},
   "outputs": [
    {
     "name": "stdout",
     "output_type": "stream",
     "text": [
      "root 34\n",
      "Время работы программы: 0.001\n"
     ]
    }
   ],
   "source": [
    "import time\n",
    "\n",
    "def func_work_time(function):\n",
    "    def wrapper(*args):\n",
    "        start_time = time.time()\n",
    "        function(*args)\n",
    "        print(\"Время работы программы: {:.3f}\".format(time.time()-start_time))\n",
    "    return wrapper\n",
    "\n",
    "@func_work_time\n",
    "def blabla(*args):\n",
    "    print(*args)\n",
    "\n",
    "blabla('root', 34)"
   ]
  },
  {
   "cell_type": "markdown",
   "metadata": {},
   "source": [
    "# Flattern"
   ]
  },
  {
   "cell_type": "code",
   "execution_count": 62,
   "metadata": {},
   "outputs": [
    {
     "data": {
      "text/plain": [
       "[1, 4, 2, 6, 6, 7, 9, 4, 0, 3, 5, 1, 20, 8]"
      ]
     },
     "execution_count": 62,
     "metadata": {},
     "output_type": "execute_result"
    }
   ],
   "source": [
    "lst = [[1,4,2,6], [6,7,9,4,0], [3,5,1,20,8]]\n",
    "new_lst = [el for sub_el in lst for el in sub_el]\n",
    "new_lst"
   ]
  }
 ],
 "metadata": {
  "kernelspec": {
   "display_name": "Python 3",
   "language": "python",
   "name": "python3"
  },
  "language_info": {
   "codemirror_mode": {
    "name": "ipython",
    "version": 3
   },
   "file_extension": ".py",
   "mimetype": "text/x-python",
   "name": "python",
   "nbconvert_exporter": "python",
   "pygments_lexer": "ipython3",
   "version": "3.8.3"
  }
 },
 "nbformat": 4,
 "nbformat_minor": 4
}
