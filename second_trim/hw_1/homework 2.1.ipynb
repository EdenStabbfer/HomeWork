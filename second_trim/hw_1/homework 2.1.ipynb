{
 "cells": [
  {
   "cell_type": "markdown",
   "metadata": {},
   "source": [
    "### Работа с numpy"
   ]
  },
  {
   "cell_type": "code",
   "execution_count": 2,
   "metadata": {},
   "outputs": [],
   "source": [
    "import numpy as np"
   ]
  },
  {
   "cell_type": "code",
   "execution_count": 3,
   "metadata": {},
   "outputs": [
    {
     "data": {
      "text/plain": [
       "array([[0, 1, 0, 1, 0],\n",
       "       [1, 0, 1, 0, 1],\n",
       "       [0, 1, 0, 1, 0],\n",
       "       [1, 0, 1, 0, 1],\n",
       "       [0, 1, 0, 1, 0]], dtype=int32)"
      ]
     },
     "execution_count": 3,
     "metadata": {},
     "output_type": "execute_result"
    }
   ],
   "source": [
    "np.fromfunction(lambda x, y: (x + y)%2, (5, 5), dtype=np.int32)"
   ]
  },
  {
   "cell_type": "code",
   "execution_count": 45,
   "metadata": {},
   "outputs": [
    {
     "name": "stdout",
     "output_type": "stream",
     "text": [
      "Через скалярное произведение: 54.7\n",
      "Через векторное произведение: 54.7\n"
     ]
    }
   ],
   "source": [
    "v1 = np.array([0, 0, 5])\n",
    "v2 = np.array([1, 1, 1])\n",
    "\n",
    "skal = np.dot(v1, v2)\n",
    "vect = np.cross(v1, v2)\n",
    "\n",
    "cos = skal / (np.linalg.norm(v1) * np.linalg.norm(v2))\n",
    "sin = np.linalg.norm(vect) / (np.linalg.norm(v1) * np.linalg.norm(v2))\n",
    "\n",
    "print(\"Через скалярное произведение: {:.1f}\".format(np.degrees(np.arccos(cos))))\n",
    "print(\"Через векторное произведение: {:.1f}\".format(np.degrees(np.arcsin(sin))))"
   ]
  },
  {
   "cell_type": "code",
   "execution_count": 75,
   "metadata": {},
   "outputs": [
    {
     "data": {
      "text/plain": [
       "array([0, 9])"
      ]
     },
     "execution_count": 75,
     "metadata": {},
     "output_type": "execute_result"
    }
   ],
   "source": [
    "m1 = np.random.randint(0, 10, (4, 4))\n",
    "m2 = np.random.randint(0, 10, (4, 4))\n",
    "\n",
    "m1[m1 == m2]"
   ]
  },
  {
   "cell_type": "code",
   "execution_count": 78,
   "metadata": {},
   "outputs": [
    {
     "data": {
      "text/plain": [
       "array([ 2.,  0., -1.])"
      ]
     },
     "execution_count": 78,
     "metadata": {},
     "output_type": "execute_result"
    }
   ],
   "source": [
    "A = np.array([[2, -4, 1],\n",
    "              [1, -5, 3],\n",
    "              [1, -1, 1]])\n",
    "\n",
    "B = np.array([3, -1, 1])\n",
    "\n",
    "invA = np.linalg.inv(A)\n",
    "X = np.dot(invA, B)\n",
    "X"
   ]
  },
  {
   "cell_type": "markdown",
   "metadata": {},
   "source": [
    "### Датагенератор"
   ]
  },
  {
   "cell_type": "code",
   "execution_count": 83,
   "metadata": {},
   "outputs": [
    {
     "name": "stdout",
     "output_type": "stream",
     "text": [
      "[ 3 24 76]\n",
      "[34  2  6]\n",
      "[78  9  8]\n",
      "[456  34  53]\n",
      "[ 4 32 56]\n",
      "[54 32  5]\n",
      "[ 4  8 89]\n",
      "[4 4 6]\n",
      "[ 38 234  34]\n",
      "[3 0]\n"
     ]
    }
   ],
   "source": [
    "class DataGen:\n",
    "    def __init__(self, data, batch, trim=True):\n",
    "        self.batch = batch\n",
    "        if trim:\n",
    "            self.data = data[:len(data)//batch*batch]\n",
    "        else:\n",
    "            self.data = data\n",
    "        self.len = len(self.data)\n",
    "        self.cnt = 0\n",
    "            \n",
    "    def get_next_batch(self):\n",
    "        self.cnt += self.batch\n",
    "        return self.data[self.cnt - self.batch: self.cnt]\n",
    "    \n",
    "    def __iter__(self):\n",
    "        i = 0\n",
    "        while i < self.len - self.batch:\n",
    "            yield self.data[i:i+self.batch]\n",
    "            i += self.batch\n",
    "        yield self.data[i:]\n",
    "    \n",
    "    def __next__(self):\n",
    "        if self.cnt < self.len:\n",
    "            self.cnt += self.batch\n",
    "            return self.data[self.cnt - self.batch: self.cnt]\n",
    "        else:\n",
    "            raise StopIteration\n",
    "            \n",
    "\n",
    "data = np.array([3,24,76,34,2,6,78,9,8,456,34,53,4,32,56,54,32,5,4,8,89,4,4,6,38,234,34,3,0])\n",
    "\n",
    "data_gen = DataGen(data, 3, False)\n",
    "for i in data_gen:\n",
    "    print(i)"
   ]
  },
  {
   "cell_type": "code",
   "execution_count": null,
   "metadata": {},
   "outputs": [],
   "source": []
  }
 ],
 "metadata": {
  "kernelspec": {
   "display_name": "Python 3",
   "language": "python",
   "name": "python3"
  },
  "language_info": {
   "codemirror_mode": {
    "name": "ipython",
    "version": 3
   },
   "file_extension": ".py",
   "mimetype": "text/x-python",
   "name": "python",
   "nbconvert_exporter": "python",
   "pygments_lexer": "ipython3",
   "version": "3.8.3"
  }
 },
 "nbformat": 4,
 "nbformat_minor": 4
}
