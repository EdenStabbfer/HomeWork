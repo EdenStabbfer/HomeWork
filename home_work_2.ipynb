{
 "cells": [
  {
   "cell_type": "markdown",
   "metadata": {},
   "source": [
    "Последовательность Фиббоначи"
   ]
  },
  {
   "cell_type": "code",
   "execution_count": 11,
   "metadata": {},
   "outputs": [
    {
     "name": "stdout",
     "output_type": "stream",
     "text": [
      "Введите ограничение: 10000\n",
      "1 1 2 3 5 8 13 21 34 55 89 144 233 377 610 987 1597 2584 4181 6765 "
     ]
    }
   ],
   "source": [
    "x = int(input(\"Введите ограничение: \"))\n",
    "a = 1\n",
    "b = 1\n",
    "print(a, end=\" \")\n",
    "while b <= x:\n",
    "    print(b, end=\" \")\n",
    "    a, b = b, a+b\n",
    "    "
   ]
  },
  {
   "cell_type": "code",
   "execution_count": 16,
   "metadata": {},
   "outputs": [
    {
     "name": "stdout",
     "output_type": "stream",
     "text": [
      "Введите первое значение: 37\n",
      "Введите второе значение: 90\n",
      "Введите ограничение: 40000\n",
      "37 90 127 217 344 561 905 1466 2371 3837 6208 10045 16253 26298 "
     ]
    }
   ],
   "source": [
    "def print_fib(a, b, x):\n",
    "    print(a, end=\" \")\n",
    "    while b <= x:\n",
    "        print(b, end=\" \")\n",
    "        a, b = b, a+b\n",
    "\n",
    "a = int(input(\"Введите первое значение: \"))\n",
    "b = int(input(\"Введите второе значение: \"))\n",
    "x = int(input(\"Введите ограничение: \"))\n",
    "\n",
    "print_fib(a, b, x)"
   ]
  },
  {
   "cell_type": "markdown",
   "metadata": {},
   "source": [
    "Сортировка массива выборкой"
   ]
  },
  {
   "cell_type": "code",
   "execution_count": 56,
   "metadata": {},
   "outputs": [
    {
     "name": "stdout",
     "output_type": "stream",
     "text": [
      "18 75 60 68 37 52 35 21 32 15\n",
      "75 68 60 52 37 35 32 21 18 15\n"
     ]
    }
   ],
   "source": [
    "from random import randint\n",
    "\n",
    "mas = [randint(1, 100) for i in range(10)]\n",
    "print(*mas)\n",
    "maximum = 0\n",
    "\n",
    "for i in range(len(mas)):\n",
    "    for j in range(i, len(mas)):\n",
    "        if mas[j]>maximum:\n",
    "            maximum = mas[j]\n",
    "            n = j\n",
    "    mas[i], mas[n] = mas[n], mas[i]\n",
    "    maximum = 0\n",
    "    \n",
    "print(*mas)"
   ]
  },
  {
   "cell_type": "markdown",
   "metadata": {},
   "source": [
    "Заполнение Матрицы Улиткой"
   ]
  },
  {
   "cell_type": "code",
   "execution_count": 2,
   "metadata": {},
   "outputs": [
    {
     "name": "stdout",
     "output_type": "stream",
     "text": [
      " 1  2  3  4  5  6  7  8 \n",
      "28 29 30 31 32 33 34  9 \n",
      "27 48 49 50 51 52 35 10 \n",
      "26 47 60 61 62 53 36 11 \n",
      "25 46 59 64 63 54 37 12 \n",
      "24 45 58 57 56 55 38 13 \n",
      "23 44 43 42 41 40 39 14 \n",
      "22 21 20 19 18 17 16 15 \n"
     ]
    }
   ],
   "source": [
    "def print_mas(m):\n",
    "    for i in range(n):\n",
    "        for j in range(n):\n",
    "            print(\"{:2d}\".format(m[i][j]), end =' ')\n",
    "        print()\n",
    "        \n",
    "        \n",
    "n = 8\n",
    "mas = [[0 for i in range(n)] for j in range(n)]\n",
    "    \n",
    "rol = 0\n",
    "col = 0\n",
    "direction = 0\n",
    "circle = 0\n",
    "cnt = 1\n",
    "\n",
    "while cnt < n*n+1:\n",
    "    if cnt==4*(n-1)+4*circle*(n-2-circle):\n",
    "        circle += 1\n",
    "        \n",
    "    mas[rol][col] = cnt\n",
    "    cnt += 1\n",
    "    \n",
    "    if col<n-circle-1 and rol==circle:\n",
    "        direction = 1\n",
    "    elif rol<n-circle-1 and col==n-circle-1:\n",
    "        direction = 2\n",
    "    elif col>circle:\n",
    "        direction = -1\n",
    "    elif rol>circle:\n",
    "        direction = -2\n",
    "        \n",
    "    if direction==1:\n",
    "        col += 1\n",
    "    elif direction==2:\n",
    "        rol += 1\n",
    "    elif direction==-1:\n",
    "        col -= 1\n",
    "    else:\n",
    "        rol -= 1\n",
    "            \n",
    "print_mas(mas)\n"
   ]
  }
 ],
 "metadata": {
  "kernelspec": {
   "display_name": "Python 3",
   "language": "python",
   "name": "python3"
  },
  "language_info": {
   "codemirror_mode": {
    "name": "ipython",
    "version": 3
   },
   "file_extension": ".py",
   "mimetype": "text/x-python",
   "name": "python",
   "nbconvert_exporter": "python",
   "pygments_lexer": "ipython3",
   "version": "3.8.3"
  }
 },
 "nbformat": 4,
 "nbformat_minor": 4
}
